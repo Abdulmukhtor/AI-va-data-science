{
 "cells": [
  {
   "cell_type": "markdown",
   "metadata": {},
   "source": [
    "#vazifa\n"
   ]
  },
  {
   "cell_type": "code",
   "execution_count": null,
   "metadata": {},
   "outputs": [],
   "source": [
    "pip install sklearn"
   ]
  },
  {
   "cell_type": "code",
   "execution_count": 1,
   "metadata": {},
   "outputs": [],
   "source": [
    "import pandas as pd\n",
    "\n"
   ]
  },
  {
   "cell_type": "code",
   "execution_count": 2,
   "metadata": {},
   "outputs": [],
   "source": [
    "df=pd.read_csv(r'C:\\Users\\Abdulmuxtor\\Downloads\\water_potability_updated.csv')"
   ]
  },
  {
   "cell_type": "code",
   "execution_count": 3,
   "metadata": {},
   "outputs": [
    {
     "data": {
      "text/html": [
       "<div>\n",
       "<style scoped>\n",
       "    .dataframe tbody tr th:only-of-type {\n",
       "        vertical-align: middle;\n",
       "    }\n",
       "\n",
       "    .dataframe tbody tr th {\n",
       "        vertical-align: top;\n",
       "    }\n",
       "\n",
       "    .dataframe thead th {\n",
       "        text-align: right;\n",
       "    }\n",
       "</style>\n",
       "<table border=\"1\" class=\"dataframe\">\n",
       "  <thead>\n",
       "    <tr style=\"text-align: right;\">\n",
       "      <th></th>\n",
       "      <th>ph</th>\n",
       "      <th>Hardness</th>\n",
       "      <th>Solids</th>\n",
       "      <th>Chloramines</th>\n",
       "      <th>Sulfate</th>\n",
       "      <th>Conductivity</th>\n",
       "      <th>Organic_carbon</th>\n",
       "      <th>Trihalomethanes</th>\n",
       "      <th>Turbidity</th>\n",
       "      <th>Potability</th>\n",
       "      <th>Ichishga_yaroqlilik</th>\n",
       "    </tr>\n",
       "  </thead>\n",
       "  <tbody>\n",
       "    <tr>\n",
       "      <th>0</th>\n",
       "      <td>NaN</td>\n",
       "      <td>204.890455</td>\n",
       "      <td>20791.318981</td>\n",
       "      <td>7.300212</td>\n",
       "      <td>368.516441</td>\n",
       "      <td>564.308654</td>\n",
       "      <td>10.379783</td>\n",
       "      <td>86.990970</td>\n",
       "      <td>2.963135</td>\n",
       "      <td>0</td>\n",
       "      <td>ichishga yaroqsiz</td>\n",
       "    </tr>\n",
       "    <tr>\n",
       "      <th>1</th>\n",
       "      <td>3.716080</td>\n",
       "      <td>129.422921</td>\n",
       "      <td>18630.057858</td>\n",
       "      <td>6.635246</td>\n",
       "      <td>NaN</td>\n",
       "      <td>592.885359</td>\n",
       "      <td>15.180013</td>\n",
       "      <td>56.329076</td>\n",
       "      <td>4.500656</td>\n",
       "      <td>0</td>\n",
       "      <td>ichishga yaroqsiz</td>\n",
       "    </tr>\n",
       "    <tr>\n",
       "      <th>2</th>\n",
       "      <td>8.099124</td>\n",
       "      <td>224.236259</td>\n",
       "      <td>19909.541732</td>\n",
       "      <td>9.275884</td>\n",
       "      <td>NaN</td>\n",
       "      <td>418.606213</td>\n",
       "      <td>16.868637</td>\n",
       "      <td>66.420093</td>\n",
       "      <td>3.055934</td>\n",
       "      <td>0</td>\n",
       "      <td>ichishga yaroqsiz</td>\n",
       "    </tr>\n",
       "    <tr>\n",
       "      <th>3</th>\n",
       "      <td>8.316766</td>\n",
       "      <td>214.373394</td>\n",
       "      <td>22018.417441</td>\n",
       "      <td>8.059332</td>\n",
       "      <td>356.886136</td>\n",
       "      <td>363.266516</td>\n",
       "      <td>18.436524</td>\n",
       "      <td>100.341674</td>\n",
       "      <td>4.628771</td>\n",
       "      <td>0</td>\n",
       "      <td>ichishga yaroqsiz</td>\n",
       "    </tr>\n",
       "    <tr>\n",
       "      <th>4</th>\n",
       "      <td>9.092223</td>\n",
       "      <td>181.101509</td>\n",
       "      <td>17978.986339</td>\n",
       "      <td>6.546600</td>\n",
       "      <td>310.135738</td>\n",
       "      <td>398.410813</td>\n",
       "      <td>11.558279</td>\n",
       "      <td>31.997993</td>\n",
       "      <td>4.075075</td>\n",
       "      <td>0</td>\n",
       "      <td>ichishga yaroqsiz</td>\n",
       "    </tr>\n",
       "  </tbody>\n",
       "</table>\n",
       "</div>"
      ],
      "text/plain": [
       "         ph    Hardness        Solids  Chloramines     Sulfate  Conductivity  \\\n",
       "0       NaN  204.890455  20791.318981     7.300212  368.516441    564.308654   \n",
       "1  3.716080  129.422921  18630.057858     6.635246         NaN    592.885359   \n",
       "2  8.099124  224.236259  19909.541732     9.275884         NaN    418.606213   \n",
       "3  8.316766  214.373394  22018.417441     8.059332  356.886136    363.266516   \n",
       "4  9.092223  181.101509  17978.986339     6.546600  310.135738    398.410813   \n",
       "\n",
       "   Organic_carbon  Trihalomethanes  Turbidity  Potability Ichishga_yaroqlilik  \n",
       "0       10.379783        86.990970   2.963135           0   ichishga yaroqsiz  \n",
       "1       15.180013        56.329076   4.500656           0   ichishga yaroqsiz  \n",
       "2       16.868637        66.420093   3.055934           0   ichishga yaroqsiz  \n",
       "3       18.436524       100.341674   4.628771           0   ichishga yaroqsiz  \n",
       "4       11.558279        31.997993   4.075075           0   ichishga yaroqsiz  "
      ]
     },
     "execution_count": 3,
     "metadata": {},
     "output_type": "execute_result"
    }
   ],
   "source": [
    "df.head()"
   ]
  },
  {
   "cell_type": "code",
   "execution_count": 4,
   "metadata": {},
   "outputs": [
    {
     "data": {
      "text/plain": [
       "ph                     491\n",
       "Hardness                 0\n",
       "Solids                   0\n",
       "Chloramines              0\n",
       "Sulfate                781\n",
       "Conductivity             0\n",
       "Organic_carbon           0\n",
       "Trihalomethanes        162\n",
       "Turbidity                0\n",
       "Potability               0\n",
       "Ichishga_yaroqlilik    163\n",
       "dtype: int64"
      ]
     },
     "execution_count": 4,
     "metadata": {},
     "output_type": "execute_result"
    }
   ],
   "source": [
    "df.isnull().sum()"
   ]
  },
  {
   "cell_type": "code",
   "execution_count": 5,
   "metadata": {},
   "outputs": [
    {
     "name": "stdout",
     "output_type": "stream",
     "text": [
      "<class 'pandas.core.frame.DataFrame'>\n",
      "RangeIndex: 3276 entries, 0 to 3275\n",
      "Data columns (total 11 columns):\n",
      " #   Column               Non-Null Count  Dtype  \n",
      "---  ------               --------------  -----  \n",
      " 0   ph                   2785 non-null   float64\n",
      " 1   Hardness             3276 non-null   float64\n",
      " 2   Solids               3276 non-null   float64\n",
      " 3   Chloramines          3276 non-null   float64\n",
      " 4   Sulfate              2495 non-null   float64\n",
      " 5   Conductivity         3276 non-null   float64\n",
      " 6   Organic_carbon       3276 non-null   float64\n",
      " 7   Trihalomethanes      3114 non-null   float64\n",
      " 8   Turbidity            3276 non-null   float64\n",
      " 9   Potability           3276 non-null   int64  \n",
      " 10  Ichishga_yaroqlilik  3113 non-null   object \n",
      "dtypes: float64(9), int64(1), object(1)\n",
      "memory usage: 281.7+ KB\n"
     ]
    }
   ],
   "source": [
    "df.info()"
   ]
  },
  {
   "cell_type": "code",
   "execution_count": 6,
   "metadata": {},
   "outputs": [
    {
     "name": "stderr",
     "output_type": "stream",
     "text": [
      "C:\\Users\\Abdulmuxtor\\AppData\\Local\\Temp\\ipykernel_1912\\276378605.py:1: FutureWarning: A value is trying to be set on a copy of a DataFrame or Series through chained assignment using an inplace method.\n",
      "The behavior will change in pandas 3.0. This inplace method will never work because the intermediate object on which we are setting values always behaves as a copy.\n",
      "\n",
      "For example, when doing 'df[col].method(value, inplace=True)', try using 'df.method({col: value}, inplace=True)' or df[col] = df[col].method(value) instead, to perform the operation inplace on the original object.\n",
      "\n",
      "\n",
      "  df['ph'].fillna(df['ph'].mean(),inplace=True)\n"
     ]
    }
   ],
   "source": [
    "df['ph'].fillna(df['ph'].mean(),inplace=True)"
   ]
  },
  {
   "cell_type": "code",
   "execution_count": 7,
   "metadata": {},
   "outputs": [
    {
     "data": {
      "text/plain": [
       "ph                       0\n",
       "Hardness                 0\n",
       "Solids                   0\n",
       "Chloramines              0\n",
       "Sulfate                781\n",
       "Conductivity             0\n",
       "Organic_carbon           0\n",
       "Trihalomethanes        162\n",
       "Turbidity                0\n",
       "Potability               0\n",
       "Ichishga_yaroqlilik    163\n",
       "dtype: int64"
      ]
     },
     "execution_count": 7,
     "metadata": {},
     "output_type": "execute_result"
    }
   ],
   "source": [
    "df.isnull().sum()"
   ]
  },
  {
   "cell_type": "code",
   "execution_count": 8,
   "metadata": {},
   "outputs": [
    {
     "name": "stderr",
     "output_type": "stream",
     "text": [
      "C:\\Users\\Abdulmuxtor\\AppData\\Local\\Temp\\ipykernel_1912\\2153123511.py:5: FutureWarning: A value is trying to be set on a copy of a DataFrame or Series through chained assignment using an inplace method.\n",
      "The behavior will change in pandas 3.0. This inplace method will never work because the intermediate object on which we are setting values always behaves as a copy.\n",
      "\n",
      "For example, when doing 'df[col].method(value, inplace=True)', try using 'df.method({col: value}, inplace=True)' or df[col] = df[col].method(value) instead, to perform the operation inplace on the original object.\n",
      "\n",
      "\n",
      "  df[col].fillna(df[col].mean(),inplace=True)\n",
      "C:\\Users\\Abdulmuxtor\\AppData\\Local\\Temp\\ipykernel_1912\\2153123511.py:3: FutureWarning: A value is trying to be set on a copy of a DataFrame or Series through chained assignment using an inplace method.\n",
      "The behavior will change in pandas 3.0. This inplace method will never work because the intermediate object on which we are setting values always behaves as a copy.\n",
      "\n",
      "For example, when doing 'df[col].method(value, inplace=True)', try using 'df.method({col: value}, inplace=True)' or df[col] = df[col].method(value) instead, to perform the operation inplace on the original object.\n",
      "\n",
      "\n",
      "  df[col].fillna(df[col].mode()[0],inplace=True)\n"
     ]
    }
   ],
   "source": [
    "for col in df.columns:\n",
    "    if df[col].dtype=='object':\n",
    "        df[col].fillna(df[col].mode()[0],inplace=True)\n",
    "    else:\n",
    "        df[col].fillna(df[col].mean(),inplace=True)"
   ]
  },
  {
   "cell_type": "code",
   "execution_count": 11,
   "metadata": {},
   "outputs": [
    {
     "name": "stdout",
     "output_type": "stream",
     "text": [
      "<class 'pandas.core.frame.DataFrame'>\n",
      "RangeIndex: 3276 entries, 0 to 3275\n",
      "Data columns (total 11 columns):\n",
      " #   Column               Non-Null Count  Dtype  \n",
      "---  ------               --------------  -----  \n",
      " 0   ph                   3276 non-null   float64\n",
      " 1   Hardness             3276 non-null   float64\n",
      " 2   Solids               3276 non-null   float64\n",
      " 3   Chloramines          3276 non-null   float64\n",
      " 4   Sulfate              3276 non-null   float64\n",
      " 5   Conductivity         3276 non-null   float64\n",
      " 6   Organic_carbon       3276 non-null   float64\n",
      " 7   Trihalomethanes      3276 non-null   float64\n",
      " 8   Turbidity            3276 non-null   float64\n",
      " 9   Potability           3276 non-null   int64  \n",
      " 10  Ichishga_yaroqlilik  3276 non-null   object \n",
      "dtypes: float64(9), int64(1), object(1)\n",
      "memory usage: 281.7+ KB\n"
     ]
    }
   ],
   "source": [
    "df.info()"
   ]
  },
  {
   "cell_type": "code",
   "execution_count": 43,
   "metadata": {},
   "outputs": [
    {
     "data": {
      "text/plain": [
       "ph                     0\n",
       "Hardness               0\n",
       "Solids                 0\n",
       "Chloramines            0\n",
       "Sulfate                0\n",
       "Conductivity           0\n",
       "Organic_carbon         0\n",
       "Trihalomethanes        0\n",
       "Turbidity              0\n",
       "Potability             0\n",
       "Ichishga_yaroqlilik    0\n",
       "dtype: int64"
      ]
     },
     "execution_count": 43,
     "metadata": {},
     "output_type": "execute_result"
    }
   ],
   "source": [
    "df.isnull().sum()"
   ]
  },
  {
   "cell_type": "code",
   "execution_count": 12,
   "metadata": {},
   "outputs": [
    {
     "data": {
      "text/plain": [
       "Ichishga_yaroqlilik\n",
       "ichishga yaroqsiz    2053\n",
       "ichishga yaroqli     1223\n",
       "Name: count, dtype: int64"
      ]
     },
     "execution_count": 12,
     "metadata": {},
     "output_type": "execute_result"
    }
   ],
   "source": [
    "df['Ichishga_yaroqlilik'].value_counts()"
   ]
  },
  {
   "cell_type": "code",
   "execution_count": 13,
   "metadata": {},
   "outputs": [],
   "source": [
    "df_encoded=df.copy() "
   ]
  },
  {
   "cell_type": "code",
   "execution_count": 28,
   "metadata": {},
   "outputs": [],
   "source": [
    "from sklearn.preprocessing import LabelEncoder # sklearn kutubxonasidan preprocessing bo'limidan label encoder tortib olinadi\n",
    "for col in df_encoded.select_dtypes(include=['object']).columns: #for operatori orqali copy qilib olinga datasetni ma'lumot turi object bo'lganini tanlab olindi\n",
    "    cardinality=df_encoded[col].nunique() # nunique operatirini ustunda takrorlanmagan klasslar uchun ishlatilinadi\n",
    "    if cardinality<=5: # agar takrorlanmagan kardinalitylar 5tadan kam bo'lsa \n",
    "        le=LabelEncoder() # labelencoderni qo'llanadi\n",
    "        df_encoded[col]=le.fit_transform(df_encoded[col]) #df_encodedning har bir ustunidagi kategoriyalrni lebel encoding qiilnadi\n",
    "    else: #aks holda\n",
    "        df_encoded=pd.get_dummies(df_encoded,columns=[col],dtype=int,drop_first=True) #df_encoded one-hotning get dummies usulida har bir kotegoriyani ustunga ajratiladi, dtypeni yozilmasa textlidan booleanga olib kelib qo'yadi, bizga natija int yoki float qiymatda bo'lishi kerak \n",
    "df=df_encoded\n"
   ]
  },
  {
   "cell_type": "code",
   "execution_count": 29,
   "metadata": {},
   "outputs": [
    {
     "name": "stdout",
     "output_type": "stream",
     "text": [
      "<class 'pandas.core.frame.DataFrame'>\n",
      "RangeIndex: 3276 entries, 0 to 3275\n",
      "Data columns (total 11 columns):\n",
      " #   Column               Non-Null Count  Dtype  \n",
      "---  ------               --------------  -----  \n",
      " 0   ph                   3276 non-null   float64\n",
      " 1   Hardness             3276 non-null   float64\n",
      " 2   Solids               3276 non-null   float64\n",
      " 3   Chloramines          3276 non-null   float64\n",
      " 4   Sulfate              3276 non-null   float64\n",
      " 5   Conductivity         3276 non-null   float64\n",
      " 6   Organic_carbon       3276 non-null   float64\n",
      " 7   Trihalomethanes      3276 non-null   float64\n",
      " 8   Turbidity            3276 non-null   float64\n",
      " 9   Potability           3276 non-null   int64  \n",
      " 10  Ichishga_yaroqlilik  3276 non-null   int64  \n",
      "dtypes: float64(9), int64(2)\n",
      "memory usage: 281.7 KB\n"
     ]
    }
   ],
   "source": [
    "df.info()"
   ]
  },
  {
   "cell_type": "code",
   "execution_count": 19,
   "metadata": {},
   "outputs": [
    {
     "data": {
      "text/plain": [
       "3"
      ]
     },
     "execution_count": 19,
     "metadata": {},
     "output_type": "execute_result"
    }
   ],
   "source": [
    "df['Ichishga_yaroqlilik'].nunique()"
   ]
  },
  {
   "cell_type": "markdown",
   "metadata": {},
   "source": [
    "#YANGI O'RGANILGAN NARSA\n",
    "KATEGORIYA VA KLASSNING FARQI\n",
    "#kategoriya input kiruvchi qiymatlar, \n",
    "#klass model bashrat qiladigan output(target) qiymat\n"
   ]
  }
 ],
 "metadata": {
  "kernelspec": {
   "display_name": "Python 3",
   "language": "python",
   "name": "python3"
  },
  "language_info": {
   "codemirror_mode": {
    "name": "ipython",
    "version": 3
   },
   "file_extension": ".py",
   "mimetype": "text/x-python",
   "name": "python",
   "nbconvert_exporter": "python",
   "pygments_lexer": "ipython3",
   "version": "3.13.2"
  }
 },
 "nbformat": 4,
 "nbformat_minor": 2
}
