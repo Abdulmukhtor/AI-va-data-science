{
 "cells": [
  {
   "cell_type": "code",
   "execution_count": 2,
   "metadata": {},
   "outputs": [
    {
     "name": "stdout",
     "output_type": "stream",
     "text": [
      "7\n"
     ]
    }
   ],
   "source": [
    "n=int(input('sonni kiriting'))\n",
    "print(n+2)"
   ]
  },
  {
   "cell_type": "code",
   "execution_count": 4,
   "metadata": {},
   "outputs": [
    {
     "name": "stdout",
     "output_type": "stream",
     "text": [
      "xatolik\n"
     ]
    }
   ],
   "source": [
    "a=-10\n",
    "if a>0:\n",
    "    if a%2==0:\n",
    "        print('a musbat juft son')\n",
    "    elif a%2!=0:\n",
    "        print('a musbat toq son')\n",
    "    else:\n",
    "        print('a is nol')\n",
    "    \n",
    "else:\n",
    "    print('xatolik')\n",
    "\n",
    "  "
   ]
  },
  {
   "cell_type": "code",
   "execution_count": 5,
   "metadata": {},
   "outputs": [
    {
     "name": "stdout",
     "output_type": "stream",
     "text": [
      "2\n"
     ]
    }
   ],
   "source": [
    "a=1\n",
    "print(a+1)"
   ]
  },
  {
   "cell_type": "code",
   "execution_count": 8,
   "metadata": {},
   "outputs": [
    {
     "name": "stdout",
     "output_type": "stream",
     "text": [
      "Requirement already satisfied: numpy in c:\\users\\davro\\appdata\\local\\programs\\python\\python313\\lib\\site-packages (2.1.3)Note: you may need to restart the kernel to use updated packages.\n",
      "\n"
     ]
    },
    {
     "name": "stderr",
     "output_type": "stream",
     "text": [
      "\n",
      "[notice] A new release of pip is available: 25.0 -> 25.0.1\n",
      "[notice] To update, run: python.exe -m pip install --upgrade pip\n"
     ]
    }
   ],
   "source": [
    "pip install numpy "
   ]
  },
  {
   "cell_type": "code",
   "execution_count": 6,
   "metadata": {},
   "outputs": [
    {
     "name": "stdout",
     "output_type": "stream",
     "text": [
      "4\n"
     ]
    }
   ],
   "source": [
    "print(a+3)"
   ]
  },
  {
   "cell_type": "code",
   "execution_count": null,
   "metadata": {},
   "outputs": [],
   "source": []
  },
  {
   "cell_type": "markdown",
   "metadata": {},
   "source": [
    "# Conditions"
   ]
  },
  {
   "cell_type": "code",
   "execution_count": 9,
   "metadata": {},
   "outputs": [
    {
     "name": "stdout",
     "output_type": "stream",
     "text": [
      "a soni musbat son\n"
     ]
    }
   ],
   "source": [
    "# if xolati\n",
    "a=2\n",
    "if a>0:\n",
    "    print('a soni musbat son')"
   ]
  },
  {
   "cell_type": "code",
   "execution_count": 11,
   "metadata": {},
   "outputs": [
    {
     "name": "stdout",
     "output_type": "stream",
     "text": [
      "a soni manfiy yoki nolga teng\n"
     ]
    }
   ],
   "source": [
    "#if/else\n",
    "a=-2\n",
    "if a>0:\n",
    "    print('a soni musbat son')\n",
    "else:\n",
    "    print('a soni manfiy yoki nolga teng')"
   ]
  },
  {
   "cell_type": "code",
   "execution_count": 14,
   "metadata": {},
   "outputs": [
    {
     "name": "stdout",
     "output_type": "stream",
     "text": [
      "a soni musbat\n"
     ]
    }
   ],
   "source": [
    "# if/elif/else\n",
    "a=9\n",
    "if a>0:\n",
    "    print('a soni musbat')\n",
    "elif a<0:\n",
    "    print('a soni manfiy')\n",
    "else:\n",
    "    print('a soni nolga teng')"
   ]
  },
  {
   "cell_type": "code",
   "execution_count": 17,
   "metadata": {},
   "outputs": [
    {
     "name": "stdout",
     "output_type": "stream",
     "text": [
      "a soni nolga teng\n"
     ]
    }
   ],
   "source": [
    "#Umumiy xolat\n",
    "a=int(input('sonni kiriting'))\n",
    "if a>0:\n",
    "    print('a soni musbat')\n",
    "elif a<0:\n",
    "    print('a soni manfiy')\n",
    "else:\n",
    "    print('a soni nolga teng')"
   ]
  },
  {
   "cell_type": "code",
   "execution_count": 18,
   "metadata": {},
   "outputs": [
    {
     "name": "stdout",
     "output_type": "stream",
     "text": [
      "6\n"
     ]
    }
   ],
   "source": [
    "a=4\n",
    "print(a+2)"
   ]
  },
  {
   "cell_type": "code",
   "execution_count": 19,
   "metadata": {},
   "outputs": [
    {
     "name": "stdout",
     "output_type": "stream",
     "text": [
      "11\n"
     ]
    }
   ],
   "source": [
    "# Istalgan sonni 4 ga ortiring\n",
    "a=int(input('sonni kiriting'))\n",
    "print(a+2)"
   ]
  },
  {
   "cell_type": "code",
   "execution_count": 20,
   "metadata": {},
   "outputs": [
    {
     "name": "stdout",
     "output_type": "stream",
     "text": [
      "a sonini 2 ga ortirilgandagi son: 11\n"
     ]
    }
   ],
   "source": [
    "# oddiy comment yordamida print qilish\n",
    "a=int(input('sonni kiriting'))\n",
    "print('a sonini 2 ga ortirilgandagi son:',a+2)\n"
   ]
  },
  {
   "cell_type": "code",
   "execution_count": 21,
   "metadata": {},
   "outputs": [
    {
     "name": "stdout",
     "output_type": "stream",
     "text": [
      "9 sonini 2 ga ortirilgandagi son:  11\n"
     ]
    }
   ],
   "source": [
    "# f-string\n",
    "a=int(input('sonni kiriting'))\n",
    "print(f\"{a} sonini 2 ga ortirilgandagi son: \", a+2)\n"
   ]
  },
  {
   "cell_type": "code",
   "execution_count": 22,
   "metadata": {},
   "outputs": [
    {
     "name": "stdout",
     "output_type": "stream",
     "text": [
      "9 sonini 10 songa ortirilgandagi son: 19\n"
     ]
    }
   ],
   "source": [
    "a=int(input('birinchi sonni kiriting'))\n",
    "b=int(input('ikkinchi sonni kiriting'))\n",
    "print(f\"{a} sonini {b} songa ortirilgandagi son:\", a+b)\n"
   ]
  },
  {
   "cell_type": "code",
   "execution_count": 24,
   "metadata": {},
   "outputs": [
    {
     "name": "stdout",
     "output_type": "stream",
     "text": [
      "100 sonini 200 songa ortirilgandagi son: 300\n"
     ]
    }
   ],
   "source": [
    "a=int(input('birinchi sonni kiriting'))\n",
    "b=int(input('ikkinchi sonni kiriting'))\n",
    "print(f\"{a} sonini {b} songa ortirilgandagi son:\", a+b)\n"
   ]
  },
  {
   "cell_type": "code",
   "execution_count": 23,
   "metadata": {},
   "outputs": [
    {
     "name": "stdout",
     "output_type": "stream",
     "text": [
      "a sonini b soninga ortirilgandagi son: 19\n"
     ]
    }
   ],
   "source": [
    "a=int(input('birinchi sonni kiriting'))\n",
    "b=int(input('ikkinchi sonni kiriting'))\n",
    "print('a sonini b soninga ortirilgandagi son:',a+b)"
   ]
  },
  {
   "cell_type": "code",
   "execution_count": null,
   "metadata": {},
   "outputs": [
    {
     "name": "stdout",
     "output_type": "stream",
     "text": [
      " 13 soni musbat toq son\n"
     ]
    }
   ],
   "source": [
    "# Condition+ Boolean(and va or)\n",
    "# a sonini musbat va juftlikka tekshiring==and \n",
    "a=int(input('birinchi sonni kiriting'))\n",
    "if a>0 and a%2==0:\n",
    "    print(f\"{a} soni musbat juft son\")\n",
    "elif a>0 and a%2!=0:\n",
    "    print(f\" {a} soni musbat toq son\")\n",
    "else:\n",
    "    print(f\" a sonida xatolik bor\")\n"
   ]
  },
  {
   "cell_type": "code",
   "execution_count": 27,
   "metadata": {},
   "outputs": [
    {
     "name": "stdout",
     "output_type": "stream",
     "text": [
      "ok\n"
     ]
    }
   ],
   "source": [
    "# agar a soni musbat yoki juft bolsa ekranga Ok degan yozuv chiqsin aks xolda xatolik degan yozuv chiqsin\n",
    "a=int(input('birinchi sonni kiriting'))\n",
    "if a>0 or a%2==0:\n",
    "    print(f\"ok\")\n",
    "else:\n",
    "    print(f\"xatolik bor\")\n"
   ]
  },
  {
   "cell_type": "code",
   "execution_count": null,
   "metadata": {},
   "outputs": [],
   "source": []
  },
  {
   "cell_type": "markdown",
   "metadata": {},
   "source": [
    "# Vazifa"
   ]
  },
  {
   "cell_type": "code",
   "execution_count": null,
   "metadata": {},
   "outputs": [],
   "source": [
    "#1 Darsda berilgan kodlarni takrorlash\n",
    "#2 Berilgan sonni 3 ga va 5 ga bo'linsa 15 ga bo'linuvchi son aks xolda xato deb ekranga chiqarilsin\n",
    "#3 Berilgan sonni 3 ga yoki 5 ga bo'linsa 15 ga bo'linuvchi son aks xolda xato deb ekranga chiqarilsin\n"
   ]
  },
  {
   "cell_type": "code",
   "execution_count": 5,
   "metadata": {},
   "outputs": [
    {
     "name": "stdout",
     "output_type": "stream",
     "text": [
      "75 15ga bo'linuvchi son !!!\n"
     ]
    }
   ],
   "source": [
    "a=int(input('sonni kiriting=>'))\n",
    "if a%3==0 and a%5==0:\n",
    "    print(f\"{a} 15ga bo'linuvchi son !!!\")\n",
    "else:\n",
    "    print('XATO !!!')"
   ]
  },
  {
   "cell_type": "code",
   "execution_count": 9,
   "metadata": {},
   "outputs": [
    {
     "name": "stdout",
     "output_type": "stream",
     "text": [
      "100 15ga bo'linuvchi son emas !!!\n",
      " 15ga bo'linuvchi bo'lishi uchun 3  va  5 ga birvaqtning o'zida bo'lini kerak \n"
     ]
    }
   ],
   "source": [
    "a=int(input('sonni kiriting=>'))\n",
    "if a%3==0 or a%5==0:\n",
    "    print(f\"{a} 15ga bo'linuvchi son emas !!!\\n 15ga bo'linuvchi bo'lishi uchun 3  va  5 ga bir vaqtning o'zida bo'lini kerak \")\n",
    "else:\n",
    "    print('XATO !!!')"
   ]
  },
  {
   "cell_type": "code",
   "execution_count": null,
   "metadata": {},
   "outputs": [],
   "source": []
  }
 ],
 "metadata": {
  "kernelspec": {
   "display_name": "Python 3",
   "language": "python",
   "name": "python3"
  },
  "language_info": {
   "codemirror_mode": {
    "name": "ipython",
    "version": 3
   },
   "file_extension": ".py",
   "mimetype": "text/x-python",
   "name": "python",
   "nbconvert_exporter": "python",
   "pygments_lexer": "ipython3",
   "version": "3.13.2"
  }
 },
 "nbformat": 4,
 "nbformat_minor": 2
}
