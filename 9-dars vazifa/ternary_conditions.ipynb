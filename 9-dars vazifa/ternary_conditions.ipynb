{
 "cells": [
  {
   "cell_type": "markdown",
   "metadata": {},
   "source": [
    "#TERNARY CONDITIONS"
   ]
  },
  {
   "cell_type": "code",
   "execution_count": 20,
   "metadata": {},
   "outputs": [
    {
     "name": "stdout",
     "output_type": "stream",
     "text": [
      "a manfiy son\n"
     ]
    }
   ],
   "source": [
    "a = -10\n",
    "\n",
    "result = (\n",
    "    \"a musbat juft son\" if a > 0 and a % 2 == 0 \n",
    "    else \"a musbat toq son\" if a > 0 and a % 2 != 0 \n",
    "    else \"a nolga teng\" if a == 0 \n",
    "    else \"a manfiy son\"\n",
    ")\n",
    "\n",
    "print(result)\n"
   ]
  },
  {
   "cell_type": "code",
   "execution_count": 15,
   "metadata": {},
   "outputs": [
    {
     "data": {
      "text/plain": [
       "'5 musbat son'"
      ]
     },
     "execution_count": 15,
     "metadata": {},
     "output_type": "execute_result"
    }
   ],
   "source": [
    "son=int(input('istalgan sonni kiriting=>'))\n",
    "f'{son} musbat son' if son>0 else f'{son} manfiy son' if son<0 else f'siz kiritgan son {son} nolga teng'"
   ]
  },
  {
   "cell_type": "code",
   "execution_count": 16,
   "metadata": {},
   "outputs": [
    {
     "data": {
      "text/plain": [
       "'ok'"
      ]
     },
     "execution_count": 16,
     "metadata": {},
     "output_type": "execute_result"
    }
   ],
   "source": [
    "x=int(input('sonni kiriting=>'))\n",
    "'ok' if a>0 or a%2==0 else 'xatolik bor'"
   ]
  },
  {
   "cell_type": "code",
   "execution_count": 18,
   "metadata": {},
   "outputs": [
    {
     "data": {
      "text/plain": [
       "\"75 15ga bo'linuvchi\""
      ]
     },
     "execution_count": 18,
     "metadata": {},
     "output_type": "execute_result"
    }
   ],
   "source": [
    "son=int(input('sonni kiriting=>'))\n",
    "f\"{son} 15ga bo'linuvchi\" if son%3==0 and son%5==0 else 'XATO'"
   ]
  }
 ],
 "metadata": {
  "kernelspec": {
   "display_name": "Python 3",
   "language": "python",
   "name": "python3"
  },
  "language_info": {
   "codemirror_mode": {
    "name": "ipython",
    "version": 3
   },
   "file_extension": ".py",
   "mimetype": "text/x-python",
   "name": "python",
   "nbconvert_exporter": "python",
   "pygments_lexer": "ipython3",
   "version": "3.13.2"
  }
 },
 "nbformat": 4,
 "nbformat_minor": 2
}
