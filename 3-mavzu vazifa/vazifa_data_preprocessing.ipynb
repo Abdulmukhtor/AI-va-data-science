{
 "cells": [
  {
   "cell_type": "markdown",
   "metadata": {},
   "source": [
    "#Data preprocessing"
   ]
  },
  {
   "cell_type": "code",
   "execution_count": 61,
   "metadata": {},
   "outputs": [],
   "source": [
    "import pandas as pd"
   ]
  },
  {
   "cell_type": "code",
   "execution_count": 62,
   "metadata": {},
   "outputs": [
    {
     "data": {
      "text/html": [
       "<div>\n",
       "<style scoped>\n",
       "    .dataframe tbody tr th:only-of-type {\n",
       "        vertical-align: middle;\n",
       "    }\n",
       "\n",
       "    .dataframe tbody tr th {\n",
       "        vertical-align: top;\n",
       "    }\n",
       "\n",
       "    .dataframe thead th {\n",
       "        text-align: right;\n",
       "    }\n",
       "</style>\n",
       "<table border=\"1\" class=\"dataframe\">\n",
       "  <thead>\n",
       "    <tr style=\"text-align: right;\">\n",
       "      <th></th>\n",
       "      <th>Job Title</th>\n",
       "      <th>Unnamed: 1</th>\n",
       "      <th>Job Experience Required</th>\n",
       "      <th>Key Skills</th>\n",
       "      <th>Role Category</th>\n",
       "      <th>Location</th>\n",
       "      <th>Functional Area</th>\n",
       "      <th>Industry</th>\n",
       "      <th>Role</th>\n",
       "      <th>Longitude</th>\n",
       "      <th>Latitude</th>\n",
       "      <th>sal</th>\n",
       "    </tr>\n",
       "  </thead>\n",
       "  <tbody>\n",
       "    <tr>\n",
       "      <th>0</th>\n",
       "      <td>Digital Media Planner</td>\n",
       "      <td>NaN</td>\n",
       "      <td>5 - 10 yrs</td>\n",
       "      <td>Media Planning| Digital Media</td>\n",
       "      <td>Advertising</td>\n",
       "      <td>Mumbai</td>\n",
       "      <td>Marketing , Advertising , MR , PR , Media Plan...</td>\n",
       "      <td>Advertising, PR, MR, Event Management</td>\n",
       "      <td>Media Planning Executive/Manager</td>\n",
       "      <td>72.877393</td>\n",
       "      <td>19.075990</td>\n",
       "      <td>3855</td>\n",
       "    </tr>\n",
       "    <tr>\n",
       "      <th>1</th>\n",
       "      <td>Online Bidding Executive</td>\n",
       "      <td>NaN</td>\n",
       "      <td>2 - 5 yrs</td>\n",
       "      <td>pre sales| closing| software knowledge| clien...</td>\n",
       "      <td>Retail Sales</td>\n",
       "      <td>Pune,Pune</td>\n",
       "      <td>Sales , Retail , Business Development</td>\n",
       "      <td>IT-Software, Software Services</td>\n",
       "      <td>Sales Executive/Officer</td>\n",
       "      <td>73.854454</td>\n",
       "      <td>18.521428</td>\n",
       "      <td>2639</td>\n",
       "    </tr>\n",
       "    <tr>\n",
       "      <th>2</th>\n",
       "      <td>Trainee Research/ Research Executive- Hi- Tec...</td>\n",
       "      <td>NaN</td>\n",
       "      <td>0 - 1 yrs</td>\n",
       "      <td>Computer science| Fabrication| Quality check|...</td>\n",
       "      <td>R&amp;D</td>\n",
       "      <td>Gurgaon</td>\n",
       "      <td>Engineering Design , R&amp;D</td>\n",
       "      <td>Recruitment, Staffing</td>\n",
       "      <td>R&amp;D Executive</td>\n",
       "      <td>77.002700</td>\n",
       "      <td>28.428262</td>\n",
       "      <td>2156</td>\n",
       "    </tr>\n",
       "    <tr>\n",
       "      <th>3</th>\n",
       "      <td>Technical Support</td>\n",
       "      <td>NaN</td>\n",
       "      <td>0 - 5 yrs</td>\n",
       "      <td>Technical Support</td>\n",
       "      <td>Admin/Maintenance/Security/Datawarehousing</td>\n",
       "      <td>Mumbai</td>\n",
       "      <td>IT Software - Application Programming , Mainte...</td>\n",
       "      <td>IT-Software, Software Services</td>\n",
       "      <td>Technical Support Engineer</td>\n",
       "      <td>72.877393</td>\n",
       "      <td>19.075990</td>\n",
       "      <td>4059</td>\n",
       "    </tr>\n",
       "    <tr>\n",
       "      <th>4</th>\n",
       "      <td>Software Test Engineer -hyderabad</td>\n",
       "      <td>NaN</td>\n",
       "      <td>2 - 5 yrs</td>\n",
       "      <td>manual testing| test engineering| test cases|...</td>\n",
       "      <td>Programming &amp; Design</td>\n",
       "      <td>Hyderabad</td>\n",
       "      <td>IT Software - QA &amp; Testing</td>\n",
       "      <td>IT-Software, Software Services</td>\n",
       "      <td>Testing Engineer</td>\n",
       "      <td>78.474061</td>\n",
       "      <td>17.360589</td>\n",
       "      <td>5347</td>\n",
       "    </tr>\n",
       "    <tr>\n",
       "      <th>...</th>\n",
       "      <td>...</td>\n",
       "      <td>...</td>\n",
       "      <td>...</td>\n",
       "      <td>...</td>\n",
       "      <td>...</td>\n",
       "      <td>...</td>\n",
       "      <td>...</td>\n",
       "      <td>...</td>\n",
       "      <td>...</td>\n",
       "      <td>...</td>\n",
       "      <td>...</td>\n",
       "      <td>...</td>\n",
       "    </tr>\n",
       "    <tr>\n",
       "      <th>495</th>\n",
       "      <td>Finance &amp; OPS - Technical Consultant (dynamic...</td>\n",
       "      <td>NaN</td>\n",
       "      <td>2 - 7 yrs</td>\n",
       "      <td>microsoft dynamics ax| strategy implementatio...</td>\n",
       "      <td>System Design/Implementation/ERP/CRM</td>\n",
       "      <td>Bengaluru</td>\n",
       "      <td>IT Software - Application Programming , Mainte...</td>\n",
       "      <td>IT-Software, Software Services</td>\n",
       "      <td>ERP Consultant</td>\n",
       "      <td>77.590082</td>\n",
       "      <td>12.976794</td>\n",
       "      <td>4922</td>\n",
       "    </tr>\n",
       "    <tr>\n",
       "      <th>496</th>\n",
       "      <td>Business Development Manager-digital / Export</td>\n",
       "      <td>NaN</td>\n",
       "      <td>5 - 8 yrs</td>\n",
       "      <td>digital marketing| international sales| inter...</td>\n",
       "      <td>Institutional Sales</td>\n",
       "      <td>Noida</td>\n",
       "      <td>Sales , Retail , Business Development</td>\n",
       "      <td>Internet, Ecommerce</td>\n",
       "      <td>Sales/Business Development Manager</td>\n",
       "      <td>77.327107</td>\n",
       "      <td>28.570784</td>\n",
       "      <td>5866</td>\n",
       "    </tr>\n",
       "    <tr>\n",
       "      <th>497</th>\n",
       "      <td>Sr. Software Engineer</td>\n",
       "      <td>NaN</td>\n",
       "      <td>4 - 9 yrs</td>\n",
       "      <td>Unix| PDF| Deployment| Informatica| Oracle| T...</td>\n",
       "      <td>Programming &amp; Design</td>\n",
       "      <td>Hyderabad</td>\n",
       "      <td>IT Software - Application Programming , Mainte...</td>\n",
       "      <td>IT-Software, Software Services</td>\n",
       "      <td>Software Developer</td>\n",
       "      <td>78.474061</td>\n",
       "      <td>17.360589</td>\n",
       "      <td>1515</td>\n",
       "    </tr>\n",
       "    <tr>\n",
       "      <th>498</th>\n",
       "      <td>Website Designer</td>\n",
       "      <td>NaN</td>\n",
       "      <td>0 - 2 yrs</td>\n",
       "      <td>jQuery| Analytical| Wordpress| Conceptualizat...</td>\n",
       "      <td>Creative</td>\n",
       "      <td>Gurgaon</td>\n",
       "      <td>Design , Creative , User Experience</td>\n",
       "      <td>IT-Software, Software Services</td>\n",
       "      <td>Web Designer</td>\n",
       "      <td>77.002700</td>\n",
       "      <td>28.428262</td>\n",
       "      <td>1946</td>\n",
       "    </tr>\n",
       "    <tr>\n",
       "      <th>499</th>\n",
       "      <td>Tech caller hiring a huge number of Executives.</td>\n",
       "      <td>NaN</td>\n",
       "      <td>2 - 5 yrs</td>\n",
       "      <td>Outbound| Night shift| Recruitment| iPhone| E...</td>\n",
       "      <td>Voice</td>\n",
       "      <td>Kolkata</td>\n",
       "      <td>ITES , BPO , KPO , LPO , Customer Service , Op...</td>\n",
       "      <td>IT-Software, Software Services</td>\n",
       "      <td>Associate/Senior Associate -(NonTechnical)</td>\n",
       "      <td>88.357691</td>\n",
       "      <td>22.541418</td>\n",
       "      <td>1511</td>\n",
       "    </tr>\n",
       "  </tbody>\n",
       "</table>\n",
       "<p>500 rows × 12 columns</p>\n",
       "</div>"
      ],
      "text/plain": [
       "                                             Job Title  Unnamed: 1  \\\n",
       "0                                Digital Media Planner         NaN   \n",
       "1                             Online Bidding Executive         NaN   \n",
       "2     Trainee Research/ Research Executive- Hi- Tec...         NaN   \n",
       "3                                    Technical Support         NaN   \n",
       "4                    Software Test Engineer -hyderabad         NaN   \n",
       "..                                                 ...         ...   \n",
       "495   Finance & OPS - Technical Consultant (dynamic...         NaN   \n",
       "496      Business Development Manager-digital / Export         NaN   \n",
       "497                              Sr. Software Engineer         NaN   \n",
       "498                                   Website Designer         NaN   \n",
       "499    Tech caller hiring a huge number of Executives.         NaN   \n",
       "\n",
       "    Job Experience Required  \\\n",
       "0                5 - 10 yrs   \n",
       "1                 2 - 5 yrs   \n",
       "2                 0 - 1 yrs   \n",
       "3                 0 - 5 yrs   \n",
       "4                 2 - 5 yrs   \n",
       "..                      ...   \n",
       "495               2 - 7 yrs   \n",
       "496               5 - 8 yrs   \n",
       "497               4 - 9 yrs   \n",
       "498               0 - 2 yrs   \n",
       "499               2 - 5 yrs   \n",
       "\n",
       "                                            Key Skills  \\\n",
       "0                        Media Planning| Digital Media   \n",
       "1     pre sales| closing| software knowledge| clien...   \n",
       "2     Computer science| Fabrication| Quality check|...   \n",
       "3                                    Technical Support   \n",
       "4     manual testing| test engineering| test cases|...   \n",
       "..                                                 ...   \n",
       "495   microsoft dynamics ax| strategy implementatio...   \n",
       "496   digital marketing| international sales| inter...   \n",
       "497   Unix| PDF| Deployment| Informatica| Oracle| T...   \n",
       "498   jQuery| Analytical| Wordpress| Conceptualizat...   \n",
       "499   Outbound| Night shift| Recruitment| iPhone| E...   \n",
       "\n",
       "                                  Role Category   Location  \\\n",
       "0                                   Advertising     Mumbai   \n",
       "1                                  Retail Sales  Pune,Pune   \n",
       "2                                           R&D    Gurgaon   \n",
       "3    Admin/Maintenance/Security/Datawarehousing     Mumbai   \n",
       "4                          Programming & Design  Hyderabad   \n",
       "..                                          ...        ...   \n",
       "495        System Design/Implementation/ERP/CRM  Bengaluru   \n",
       "496                         Institutional Sales      Noida   \n",
       "497                        Programming & Design  Hyderabad   \n",
       "498                                    Creative    Gurgaon   \n",
       "499                                       Voice    Kolkata   \n",
       "\n",
       "                                       Functional Area  \\\n",
       "0    Marketing , Advertising , MR , PR , Media Plan...   \n",
       "1                Sales , Retail , Business Development   \n",
       "2                             Engineering Design , R&D   \n",
       "3    IT Software - Application Programming , Mainte...   \n",
       "4                           IT Software - QA & Testing   \n",
       "..                                                 ...   \n",
       "495  IT Software - Application Programming , Mainte...   \n",
       "496              Sales , Retail , Business Development   \n",
       "497  IT Software - Application Programming , Mainte...   \n",
       "498                Design , Creative , User Experience   \n",
       "499  ITES , BPO , KPO , LPO , Customer Service , Op...   \n",
       "\n",
       "                                  Industry  \\\n",
       "0    Advertising, PR, MR, Event Management   \n",
       "1           IT-Software, Software Services   \n",
       "2                    Recruitment, Staffing   \n",
       "3           IT-Software, Software Services   \n",
       "4           IT-Software, Software Services   \n",
       "..                                     ...   \n",
       "495         IT-Software, Software Services   \n",
       "496                    Internet, Ecommerce   \n",
       "497         IT-Software, Software Services   \n",
       "498         IT-Software, Software Services   \n",
       "499         IT-Software, Software Services   \n",
       "\n",
       "                                           Role  Longitude   Latitude   sal  \n",
       "0              Media Planning Executive/Manager  72.877393  19.075990  3855  \n",
       "1                       Sales Executive/Officer  73.854454  18.521428  2639  \n",
       "2                                 R&D Executive  77.002700  28.428262  2156  \n",
       "3                    Technical Support Engineer  72.877393  19.075990  4059  \n",
       "4                              Testing Engineer  78.474061  17.360589  5347  \n",
       "..                                          ...        ...        ...   ...  \n",
       "495                              ERP Consultant  77.590082  12.976794  4922  \n",
       "496          Sales/Business Development Manager  77.327107  28.570784  5866  \n",
       "497                          Software Developer  78.474061  17.360589  1515  \n",
       "498                                Web Designer  77.002700  28.428262  1946  \n",
       "499  Associate/Senior Associate -(NonTechnical)  88.357691  22.541418  1511  \n",
       "\n",
       "[500 rows x 12 columns]"
      ]
     },
     "execution_count": 62,
     "metadata": {},
     "output_type": "execute_result"
    }
   ],
   "source": [
    "df=pd.read_csv('jobss.csv')\n",
    "df"
   ]
  },
  {
   "cell_type": "code",
   "execution_count": 31,
   "metadata": {},
   "outputs": [
    {
     "data": {
      "text/html": [
       "<div>\n",
       "<style scoped>\n",
       "    .dataframe tbody tr th:only-of-type {\n",
       "        vertical-align: middle;\n",
       "    }\n",
       "\n",
       "    .dataframe tbody tr th {\n",
       "        vertical-align: top;\n",
       "    }\n",
       "\n",
       "    .dataframe thead th {\n",
       "        text-align: right;\n",
       "    }\n",
       "</style>\n",
       "<table border=\"1\" class=\"dataframe\">\n",
       "  <thead>\n",
       "    <tr style=\"text-align: right;\">\n",
       "      <th></th>\n",
       "      <th>Job Title</th>\n",
       "      <th>Unnamed: 1</th>\n",
       "      <th>Job Experience Required</th>\n",
       "      <th>Key Skills</th>\n",
       "      <th>Role Category</th>\n",
       "      <th>Location</th>\n",
       "      <th>Functional Area</th>\n",
       "      <th>Industry</th>\n",
       "      <th>Role</th>\n",
       "      <th>Longitude</th>\n",
       "      <th>Latitude</th>\n",
       "      <th>sal</th>\n",
       "    </tr>\n",
       "  </thead>\n",
       "  <tbody>\n",
       "    <tr>\n",
       "      <th>0</th>\n",
       "      <td>Digital Media Planner</td>\n",
       "      <td>NaN</td>\n",
       "      <td>5 - 10 yrs</td>\n",
       "      <td>Media Planning| Digital Media</td>\n",
       "      <td>Advertising</td>\n",
       "      <td>Mumbai</td>\n",
       "      <td>Marketing , Advertising , MR , PR , Media Plan...</td>\n",
       "      <td>Advertising, PR, MR, Event Management</td>\n",
       "      <td>Media Planning Executive/Manager</td>\n",
       "      <td>72.877393</td>\n",
       "      <td>19.075990</td>\n",
       "      <td>3855</td>\n",
       "    </tr>\n",
       "    <tr>\n",
       "      <th>1</th>\n",
       "      <td>Online Bidding Executive</td>\n",
       "      <td>NaN</td>\n",
       "      <td>2 - 5 yrs</td>\n",
       "      <td>pre sales| closing| software knowledge| clien...</td>\n",
       "      <td>Retail Sales</td>\n",
       "      <td>Pune,Pune</td>\n",
       "      <td>Sales , Retail , Business Development</td>\n",
       "      <td>IT-Software, Software Services</td>\n",
       "      <td>Sales Executive/Officer</td>\n",
       "      <td>73.854454</td>\n",
       "      <td>18.521428</td>\n",
       "      <td>2639</td>\n",
       "    </tr>\n",
       "    <tr>\n",
       "      <th>2</th>\n",
       "      <td>Trainee Research/ Research Executive- Hi- Tec...</td>\n",
       "      <td>NaN</td>\n",
       "      <td>0 - 1 yrs</td>\n",
       "      <td>Computer science| Fabrication| Quality check|...</td>\n",
       "      <td>R&amp;D</td>\n",
       "      <td>Gurgaon</td>\n",
       "      <td>Engineering Design , R&amp;D</td>\n",
       "      <td>Recruitment, Staffing</td>\n",
       "      <td>R&amp;D Executive</td>\n",
       "      <td>77.002700</td>\n",
       "      <td>28.428262</td>\n",
       "      <td>2156</td>\n",
       "    </tr>\n",
       "    <tr>\n",
       "      <th>3</th>\n",
       "      <td>Technical Support</td>\n",
       "      <td>NaN</td>\n",
       "      <td>0 - 5 yrs</td>\n",
       "      <td>Technical Support</td>\n",
       "      <td>Admin/Maintenance/Security/Datawarehousing</td>\n",
       "      <td>Mumbai</td>\n",
       "      <td>IT Software - Application Programming , Mainte...</td>\n",
       "      <td>IT-Software, Software Services</td>\n",
       "      <td>Technical Support Engineer</td>\n",
       "      <td>72.877393</td>\n",
       "      <td>19.075990</td>\n",
       "      <td>4059</td>\n",
       "    </tr>\n",
       "    <tr>\n",
       "      <th>4</th>\n",
       "      <td>Software Test Engineer -hyderabad</td>\n",
       "      <td>NaN</td>\n",
       "      <td>2 - 5 yrs</td>\n",
       "      <td>manual testing| test engineering| test cases|...</td>\n",
       "      <td>Programming &amp; Design</td>\n",
       "      <td>Hyderabad</td>\n",
       "      <td>IT Software - QA &amp; Testing</td>\n",
       "      <td>IT-Software, Software Services</td>\n",
       "      <td>Testing Engineer</td>\n",
       "      <td>78.474061</td>\n",
       "      <td>17.360589</td>\n",
       "      <td>5347</td>\n",
       "    </tr>\n",
       "  </tbody>\n",
       "</table>\n",
       "</div>"
      ],
      "text/plain": [
       "                                           Job Title  Unnamed: 1  \\\n",
       "0                              Digital Media Planner         NaN   \n",
       "1                           Online Bidding Executive         NaN   \n",
       "2   Trainee Research/ Research Executive- Hi- Tec...         NaN   \n",
       "3                                  Technical Support         NaN   \n",
       "4                  Software Test Engineer -hyderabad         NaN   \n",
       "\n",
       "  Job Experience Required                                         Key Skills  \\\n",
       "0              5 - 10 yrs                      Media Planning| Digital Media   \n",
       "1               2 - 5 yrs   pre sales| closing| software knowledge| clien...   \n",
       "2               0 - 1 yrs   Computer science| Fabrication| Quality check|...   \n",
       "3               0 - 5 yrs                                  Technical Support   \n",
       "4               2 - 5 yrs   manual testing| test engineering| test cases|...   \n",
       "\n",
       "                                Role Category   Location  \\\n",
       "0                                 Advertising     Mumbai   \n",
       "1                                Retail Sales  Pune,Pune   \n",
       "2                                         R&D    Gurgaon   \n",
       "3  Admin/Maintenance/Security/Datawarehousing     Mumbai   \n",
       "4                        Programming & Design  Hyderabad   \n",
       "\n",
       "                                     Functional Area  \\\n",
       "0  Marketing , Advertising , MR , PR , Media Plan...   \n",
       "1              Sales , Retail , Business Development   \n",
       "2                           Engineering Design , R&D   \n",
       "3  IT Software - Application Programming , Mainte...   \n",
       "4                         IT Software - QA & Testing   \n",
       "\n",
       "                                Industry                              Role  \\\n",
       "0  Advertising, PR, MR, Event Management  Media Planning Executive/Manager   \n",
       "1         IT-Software, Software Services           Sales Executive/Officer   \n",
       "2                  Recruitment, Staffing                     R&D Executive   \n",
       "3         IT-Software, Software Services        Technical Support Engineer   \n",
       "4         IT-Software, Software Services                  Testing Engineer   \n",
       "\n",
       "   Longitude   Latitude   sal  \n",
       "0  72.877393  19.075990  3855  \n",
       "1  73.854454  18.521428  2639  \n",
       "2  77.002700  28.428262  2156  \n",
       "3  72.877393  19.075990  4059  \n",
       "4  78.474061  17.360589  5347  "
      ]
     },
     "execution_count": 31,
     "metadata": {},
     "output_type": "execute_result"
    }
   ],
   "source": [
    "df.head()"
   ]
  },
  {
   "cell_type": "code",
   "execution_count": 32,
   "metadata": {},
   "outputs": [
    {
     "name": "stdout",
     "output_type": "stream",
     "text": [
      "<class 'pandas.core.frame.DataFrame'>\n",
      "RangeIndex: 500 entries, 0 to 499\n",
      "Data columns (total 12 columns):\n",
      " #   Column                   Non-Null Count  Dtype  \n",
      "---  ------                   --------------  -----  \n",
      " 0   Job Title                489 non-null    object \n",
      " 1   Unnamed: 1               0 non-null      float64\n",
      " 2   Job Experience Required  500 non-null    object \n",
      " 3   Key Skills               500 non-null    object \n",
      " 4   Role Category            463 non-null    object \n",
      " 5   Location                 489 non-null    object \n",
      " 6   Functional Area          489 non-null    object \n",
      " 7   Industry                 489 non-null    object \n",
      " 8   Role                     486 non-null    object \n",
      " 9   Longitude                473 non-null    float64\n",
      " 10  Latitude                 473 non-null    float64\n",
      " 11  sal                      500 non-null    int64  \n",
      "dtypes: float64(3), int64(1), object(8)\n",
      "memory usage: 47.0+ KB\n"
     ]
    }
   ],
   "source": [
    "df.info()"
   ]
  },
  {
   "cell_type": "code",
   "execution_count": 33,
   "metadata": {},
   "outputs": [
    {
     "data": {
      "text/plain": [
       "Job Title                   11\n",
       "Unnamed: 1                 500\n",
       "Job Experience Required      0\n",
       "Key Skills                   0\n",
       "Role Category               37\n",
       "Location                    11\n",
       "Functional Area             11\n",
       "Industry                    11\n",
       "Role                        14\n",
       "Longitude                   27\n",
       "Latitude                    27\n",
       "sal                          0\n",
       "dtype: int64"
      ]
     },
     "execution_count": 33,
     "metadata": {},
     "output_type": "execute_result"
    }
   ],
   "source": [
    "df.isnull().sum()"
   ]
  },
  {
   "cell_type": "code",
   "execution_count": 34,
   "metadata": {},
   "outputs": [
    {
     "data": {
      "text/html": [
       "<div>\n",
       "<style scoped>\n",
       "    .dataframe tbody tr th:only-of-type {\n",
       "        vertical-align: middle;\n",
       "    }\n",
       "\n",
       "    .dataframe tbody tr th {\n",
       "        vertical-align: top;\n",
       "    }\n",
       "\n",
       "    .dataframe thead th {\n",
       "        text-align: right;\n",
       "    }\n",
       "</style>\n",
       "<table border=\"1\" class=\"dataframe\">\n",
       "  <thead>\n",
       "    <tr style=\"text-align: right;\">\n",
       "      <th></th>\n",
       "      <th>Unnamed: 1</th>\n",
       "      <th>Longitude</th>\n",
       "      <th>Latitude</th>\n",
       "      <th>sal</th>\n",
       "    </tr>\n",
       "  </thead>\n",
       "  <tbody>\n",
       "    <tr>\n",
       "      <th>count</th>\n",
       "      <td>0.0</td>\n",
       "      <td>473.000000</td>\n",
       "      <td>473.000000</td>\n",
       "      <td>500.000000</td>\n",
       "    </tr>\n",
       "    <tr>\n",
       "      <th>mean</th>\n",
       "      <td>NaN</td>\n",
       "      <td>75.988498</td>\n",
       "      <td>21.089736</td>\n",
       "      <td>4224.594000</td>\n",
       "    </tr>\n",
       "    <tr>\n",
       "      <th>std</th>\n",
       "      <td>NaN</td>\n",
       "      <td>14.397788</td>\n",
       "      <td>7.080071</td>\n",
       "      <td>1598.716696</td>\n",
       "    </tr>\n",
       "    <tr>\n",
       "      <th>min</th>\n",
       "      <td>NaN</td>\n",
       "      <td>-79.030572</td>\n",
       "      <td>-8.123729</td>\n",
       "      <td>1510.000000</td>\n",
       "    </tr>\n",
       "    <tr>\n",
       "      <th>25%</th>\n",
       "      <td>NaN</td>\n",
       "      <td>73.854454</td>\n",
       "      <td>17.360589</td>\n",
       "      <td>2864.250000</td>\n",
       "    </tr>\n",
       "    <tr>\n",
       "      <th>50%</th>\n",
       "      <td>NaN</td>\n",
       "      <td>77.121215</td>\n",
       "      <td>19.075990</td>\n",
       "      <td>4213.000000</td>\n",
       "    </tr>\n",
       "    <tr>\n",
       "      <th>75%</th>\n",
       "      <td>NaN</td>\n",
       "      <td>77.590082</td>\n",
       "      <td>28.428262</td>\n",
       "      <td>5623.000000</td>\n",
       "    </tr>\n",
       "    <tr>\n",
       "      <th>max</th>\n",
       "      <td>NaN</td>\n",
       "      <td>121.097753</td>\n",
       "      <td>46.314475</td>\n",
       "      <td>6991.000000</td>\n",
       "    </tr>\n",
       "  </tbody>\n",
       "</table>\n",
       "</div>"
      ],
      "text/plain": [
       "       Unnamed: 1   Longitude    Latitude          sal\n",
       "count         0.0  473.000000  473.000000   500.000000\n",
       "mean          NaN   75.988498   21.089736  4224.594000\n",
       "std           NaN   14.397788    7.080071  1598.716696\n",
       "min           NaN  -79.030572   -8.123729  1510.000000\n",
       "25%           NaN   73.854454   17.360589  2864.250000\n",
       "50%           NaN   77.121215   19.075990  4213.000000\n",
       "75%           NaN   77.590082   28.428262  5623.000000\n",
       "max           NaN  121.097753   46.314475  6991.000000"
      ]
     },
     "execution_count": 34,
     "metadata": {},
     "output_type": "execute_result"
    }
   ],
   "source": [
    "df.describe()"
   ]
  },
  {
   "cell_type": "code",
   "execution_count": 35,
   "metadata": {},
   "outputs": [],
   "source": [
    "import seaborn as sns \n",
    "import numpy as np\n",
    "import matplotlib.pyplot as plt"
   ]
  },
  {
   "cell_type": "code",
   "execution_count": 36,
   "metadata": {},
   "outputs": [
    {
     "data": {
      "image/png": "[encoded data removed]",
      "text/plain": [
       "<Figure size 640x480 with 1 Axes>"
      ]
     },
     "metadata": {},
     "output_type": "display_data"
    }
   ],
   "source": [
    "sns.heatmap(df.isnull(),cbar=False,cmap='viridis',yticklabels=False)\n",
    "plt.show()"
   ]
  },
  {
   "cell_type": "code",
   "execution_count": 37,
   "metadata": {},
   "outputs": [
    {
     "name": "stdout",
     "output_type": "stream",
     "text": [
      "Requirement already satisfied: missingno in c:\\users\\abdulmuxtor\\appdata\\local\\programs\\python\\python313\\lib\\site-packages (0.5.2)\n",
      "Requirement already satisfied: numpy in c:\\users\\abdulmuxtor\\appdata\\local\\programs\\python\\python313\\lib\\site-packages (from missingno) (2.2.2)\n",
      "Requirement already satisfied: matplotlib in c:\\users\\abdulmuxtor\\appdata\\local\\programs\\python\\python313\\lib\\site-packages (from missingno) (3.10.0)\n",
      "Requirement already satisfied: scipy in c:\\users\\abdulmuxtor\\appdata\\local\\programs\\python\\python313\\lib\\site-packages (from missingno) (1.15.1)\n",
      "Requirement already satisfied: seaborn in c:\\users\\abdulmuxtor\\appdata\\local\\programs\\python\\python313\\lib\\site-packages (from missingno) (0.13.2)\n",
      "Requirement already satisfied: contourpy>=1.0.1 in c:\\users\\abdulmuxtor\\appdata\\local\\programs\\python\\python313\\lib\\site-packages (from matplotlib->missingno) (1.3.1)\n",
      "Requirement already satisfied: cycler>=0.10 in c:\\users\\abdulmuxtor\\appdata\\local\\programs\\python\\python313\\lib\\site-packages (from matplotlib->missingno) (0.12.1)\n",
      "Requirement already satisfied: fonttools>=4.22.0 in c:\\users\\abdulmuxtor\\appdata\\local\\programs\\python\\python313\\lib\\site-packages (from matplotlib->missingno) (4.55.8)\n",
      "Requirement already satisfied: kiwisolver>=1.3.1 in c:\\users\\abdulmuxtor\\appdata\\local\\programs\\python\\python313\\lib\\site-packages (from matplotlib->missingno) (1.4.8)\n",
      "Requirement already satisfied: packaging>=20.0 in c:\\users\\abdulmuxtor\\appdata\\roaming\\python\\python313\\site-packages (from matplotlib->missingno) (24.2)\n",
      "Requirement already satisfied: pillow>=8 in c:\\users\\abdulmuxtor\\appdata\\local\\programs\\python\\python313\\lib\\site-packages (from matplotlib->missingno) (11.1.0)\n",
      "Requirement already satisfied: pyparsing>=2.3.1 in c:\\users\\abdulmuxtor\\appdata\\local\\programs\\python\\python313\\lib\\site-packages (from matplotlib->missingno) (3.2.1)\n",
      "Requirement already satisfied: python-dateutil>=2.7 in c:\\users\\abdulmuxtor\\appdata\\roaming\\python\\python313\\site-packages (from matplotlib->missingno) (2.9.0.post0)\n",
      "Requirement already satisfied: pandas>=1.2 in c:\\users\\abdulmuxtor\\appdata\\local\\programs\\python\\python313\\lib\\site-packages (from seaborn->missingno) (2.2.3)\n",
      "Requirement already satisfied: pytz>=2020.1 in c:\\users\\abdulmuxtor\\appdata\\local\\programs\\python\\python313\\lib\\site-packages (from pandas>=1.2->seaborn->missingno) (2025.1)\n",
      "Requirement already satisfied: tzdata>=2022.7 in c:\\users\\abdulmuxtor\\appdata\\local\\programs\\python\\python313\\lib\\site-packages (from pandas>=1.2->seaborn->missingno) (2025.1)\n",
      "Requirement already satisfied: six>=1.5 in c:\\users\\abdulmuxtor\\appdata\\roaming\\python\\python313\\site-packages (from python-dateutil>=2.7->matplotlib->missingno) (1.17.0)\n",
      "Note: you may need to restart the kernel to use updated packages.\n"
     ]
    },
    {
     "name": "stderr",
     "output_type": "stream",
     "text": [
      "\n",
      "[notice] A new release of pip is available: 24.3.1 -> 25.0\n",
      "[notice] To update, run: python.exe -m pip install --upgrade pip\n"
     ]
    }
   ],
   "source": [
    "pip install missingno"
   ]
  },
  {
   "cell_type": "code",
   "execution_count": 38,
   "metadata": {},
   "outputs": [
    {
     "data": {
      "image/png": "[encoded data removed]",
      "text/plain": [
       "<Figure size 2500x1000 with 2 Axes>"
      ]
     },
     "metadata": {},
     "output_type": "display_data"
    }
   ],
   "source": [
    "import missingno as msno\n",
    "import matplotlib.pyplot as plt\n",
    "\n",
    "msno.matrix(df)\n",
    "plt.show()"
   ]
  },
  {
   "cell_type": "code",
   "execution_count": 39,
   "metadata": {},
   "outputs": [
    {
     "data": {
      "text/html": [
       "<div>\n",
       "<style scoped>\n",
       "    .dataframe tbody tr th:only-of-type {\n",
       "        vertical-align: middle;\n",
       "    }\n",
       "\n",
       "    .dataframe tbody tr th {\n",
       "        vertical-align: top;\n",
       "    }\n",
       "\n",
       "    .dataframe thead th {\n",
       "        text-align: right;\n",
       "    }\n",
       "</style>\n",
       "<table border=\"1\" class=\"dataframe\">\n",
       "  <thead>\n",
       "    <tr style=\"text-align: right;\">\n",
       "      <th></th>\n",
       "      <th>Job Title</th>\n",
       "      <th>Unnamed: 1</th>\n",
       "      <th>Job Experience Required</th>\n",
       "      <th>Key Skills</th>\n",
       "      <th>Role Category</th>\n",
       "      <th>Location</th>\n",
       "      <th>Functional Area</th>\n",
       "      <th>Industry</th>\n",
       "      <th>Role</th>\n",
       "      <th>Longitude</th>\n",
       "      <th>Latitude</th>\n",
       "      <th>sal</th>\n",
       "    </tr>\n",
       "  </thead>\n",
       "  <tbody>\n",
       "    <tr>\n",
       "      <th>495</th>\n",
       "      <td>Finance &amp; OPS - Technical Consultant (dynamic...</td>\n",
       "      <td>NaN</td>\n",
       "      <td>2 - 7 yrs</td>\n",
       "      <td>microsoft dynamics ax| strategy implementatio...</td>\n",
       "      <td>System Design/Implementation/ERP/CRM</td>\n",
       "      <td>Bengaluru</td>\n",
       "      <td>IT Software - Application Programming , Mainte...</td>\n",
       "      <td>IT-Software, Software Services</td>\n",
       "      <td>ERP Consultant</td>\n",
       "      <td>77.590082</td>\n",
       "      <td>12.976794</td>\n",
       "      <td>4922</td>\n",
       "    </tr>\n",
       "    <tr>\n",
       "      <th>496</th>\n",
       "      <td>Business Development Manager-digital / Export</td>\n",
       "      <td>NaN</td>\n",
       "      <td>5 - 8 yrs</td>\n",
       "      <td>digital marketing| international sales| inter...</td>\n",
       "      <td>Institutional Sales</td>\n",
       "      <td>Noida</td>\n",
       "      <td>Sales , Retail , Business Development</td>\n",
       "      <td>Internet, Ecommerce</td>\n",
       "      <td>Sales/Business Development Manager</td>\n",
       "      <td>77.327107</td>\n",
       "      <td>28.570784</td>\n",
       "      <td>5866</td>\n",
       "    </tr>\n",
       "    <tr>\n",
       "      <th>497</th>\n",
       "      <td>Sr. Software Engineer</td>\n",
       "      <td>NaN</td>\n",
       "      <td>4 - 9 yrs</td>\n",
       "      <td>Unix| PDF| Deployment| Informatica| Oracle| T...</td>\n",
       "      <td>Programming &amp; Design</td>\n",
       "      <td>Hyderabad</td>\n",
       "      <td>IT Software - Application Programming , Mainte...</td>\n",
       "      <td>IT-Software, Software Services</td>\n",
       "      <td>Software Developer</td>\n",
       "      <td>78.474061</td>\n",
       "      <td>17.360589</td>\n",
       "      <td>1515</td>\n",
       "    </tr>\n",
       "    <tr>\n",
       "      <th>498</th>\n",
       "      <td>Website Designer</td>\n",
       "      <td>NaN</td>\n",
       "      <td>0 - 2 yrs</td>\n",
       "      <td>jQuery| Analytical| Wordpress| Conceptualizat...</td>\n",
       "      <td>Creative</td>\n",
       "      <td>Gurgaon</td>\n",
       "      <td>Design , Creative , User Experience</td>\n",
       "      <td>IT-Software, Software Services</td>\n",
       "      <td>Web Designer</td>\n",
       "      <td>77.002700</td>\n",
       "      <td>28.428262</td>\n",
       "      <td>1946</td>\n",
       "    </tr>\n",
       "    <tr>\n",
       "      <th>499</th>\n",
       "      <td>Tech caller hiring a huge number of Executives.</td>\n",
       "      <td>NaN</td>\n",
       "      <td>2 - 5 yrs</td>\n",
       "      <td>Outbound| Night shift| Recruitment| iPhone| E...</td>\n",
       "      <td>Voice</td>\n",
       "      <td>Kolkata</td>\n",
       "      <td>ITES , BPO , KPO , LPO , Customer Service , Op...</td>\n",
       "      <td>IT-Software, Software Services</td>\n",
       "      <td>Associate/Senior Associate -(NonTechnical)</td>\n",
       "      <td>88.357691</td>\n",
       "      <td>22.541418</td>\n",
       "      <td>1511</td>\n",
       "    </tr>\n",
       "  </tbody>\n",
       "</table>\n",
       "</div>"
      ],
      "text/plain": [
       "                                             Job Title  Unnamed: 1  \\\n",
       "495   Finance & OPS - Technical Consultant (dynamic...         NaN   \n",
       "496      Business Development Manager-digital / Export         NaN   \n",
       "497                              Sr. Software Engineer         NaN   \n",
       "498                                   Website Designer         NaN   \n",
       "499    Tech caller hiring a huge number of Executives.         NaN   \n",
       "\n",
       "    Job Experience Required  \\\n",
       "495               2 - 7 yrs   \n",
       "496               5 - 8 yrs   \n",
       "497               4 - 9 yrs   \n",
       "498               0 - 2 yrs   \n",
       "499               2 - 5 yrs   \n",
       "\n",
       "                                            Key Skills  \\\n",
       "495   microsoft dynamics ax| strategy implementatio...   \n",
       "496   digital marketing| international sales| inter...   \n",
       "497   Unix| PDF| Deployment| Informatica| Oracle| T...   \n",
       "498   jQuery| Analytical| Wordpress| Conceptualizat...   \n",
       "499   Outbound| Night shift| Recruitment| iPhone| E...   \n",
       "\n",
       "                            Role Category   Location  \\\n",
       "495  System Design/Implementation/ERP/CRM  Bengaluru   \n",
       "496                   Institutional Sales      Noida   \n",
       "497                  Programming & Design  Hyderabad   \n",
       "498                              Creative    Gurgaon   \n",
       "499                                 Voice    Kolkata   \n",
       "\n",
       "                                       Functional Area  \\\n",
       "495  IT Software - Application Programming , Mainte...   \n",
       "496              Sales , Retail , Business Development   \n",
       "497  IT Software - Application Programming , Mainte...   \n",
       "498                Design , Creative , User Experience   \n",
       "499  ITES , BPO , KPO , LPO , Customer Service , Op...   \n",
       "\n",
       "                           Industry  \\\n",
       "495  IT-Software, Software Services   \n",
       "496             Internet, Ecommerce   \n",
       "497  IT-Software, Software Services   \n",
       "498  IT-Software, Software Services   \n",
       "499  IT-Software, Software Services   \n",
       "\n",
       "                                           Role  Longitude   Latitude   sal  \n",
       "495                              ERP Consultant  77.590082  12.976794  4922  \n",
       "496          Sales/Business Development Manager  77.327107  28.570784  5866  \n",
       "497                          Software Developer  78.474061  17.360589  1515  \n",
       "498                                Web Designer  77.002700  28.428262  1946  \n",
       "499  Associate/Senior Associate -(NonTechnical)  88.357691  22.541418  1511  "
      ]
     },
     "execution_count": 39,
     "metadata": {},
     "output_type": "execute_result"
    }
   ],
   "source": [
    "df.tail()"
   ]
  },
  {
   "cell_type": "markdown",
   "metadata": {},
   "source": [
    "#Drop"
   ]
  },
  {
   "cell_type": "code",
   "execution_count": 40,
   "metadata": {},
   "outputs": [
    {
     "data": {
      "text/plain": [
       "Job Title                   11\n",
       "Unnamed: 1                 500\n",
       "Job Experience Required      0\n",
       "Key Skills                   0\n",
       "Role Category               37\n",
       "Location                    11\n",
       "Functional Area             11\n",
       "Industry                    11\n",
       "Role                        14\n",
       "Longitude                   27\n",
       "Latitude                    27\n",
       "sal                          0\n",
       "dtype: int64"
      ]
     },
     "execution_count": 40,
     "metadata": {},
     "output_type": "execute_result"
    }
   ],
   "source": [
    "df.isnull().sum()"
   ]
  },
  {
   "cell_type": "code",
   "execution_count": null,
   "metadata": {},
   "outputs": [],
   "source": []
  },
  {
   "cell_type": "code",
   "execution_count": 51,
   "metadata": {},
   "outputs": [],
   "source": [
    "df=df.dropna(subset=['Location'])\n"
   ]
  },
  {
   "cell_type": "code",
   "execution_count": 52,
   "metadata": {},
   "outputs": [
    {
     "data": {
      "text/plain": [
       "Job Title                    0\n",
       "Unnamed: 1                 489\n",
       "Job Experience Required      0\n",
       "Key Skills                   0\n",
       "Role Category               26\n",
       "Location                     0\n",
       "Functional Area              0\n",
       "Industry                     0\n",
       "Role                         3\n",
       "Longitude                   27\n",
       "Latitude                    27\n",
       "sal                          0\n",
       "dtype: int64"
      ]
     },
     "execution_count": 52,
     "metadata": {},
     "output_type": "execute_result"
    }
   ],
   "source": [
    "df.isnull().sum()"
   ]
  },
  {
   "cell_type": "code",
   "execution_count": 53,
   "metadata": {},
   "outputs": [
    {
     "name": "stdout",
     "output_type": "stream",
     "text": [
      "<class 'pandas.core.frame.DataFrame'>\n",
      "Index: 489 entries, 0 to 499\n",
      "Data columns (total 12 columns):\n",
      " #   Column                   Non-Null Count  Dtype  \n",
      "---  ------                   --------------  -----  \n",
      " 0   Job Title                489 non-null    object \n",
      " 1   Unnamed: 1               0 non-null      float64\n",
      " 2   Job Experience Required  489 non-null    object \n",
      " 3   Key Skills               489 non-null    object \n",
      " 4   Role Category            463 non-null    object \n",
      " 5   Location                 489 non-null    object \n",
      " 6   Functional Area          489 non-null    object \n",
      " 7   Industry                 489 non-null    object \n",
      " 8   Role                     486 non-null    object \n",
      " 9   Longitude                462 non-null    float64\n",
      " 10  Latitude                 462 non-null    float64\n",
      " 11  sal                      489 non-null    int64  \n",
      "dtypes: float64(3), int64(1), object(8)\n",
      "memory usage: 49.7+ KB\n"
     ]
    }
   ],
   "source": [
    "df.info()"
   ]
  },
  {
   "cell_type": "code",
   "execution_count": 54,
   "metadata": {},
   "outputs": [],
   "source": [
    "tushib_qolganlar=df.columns[df.isnull().any()]"
   ]
  },
  {
   "cell_type": "code",
   "execution_count": 55,
   "metadata": {},
   "outputs": [
    {
     "data": {
      "text/plain": [
       "Index(['Unnamed: 1', 'Role Category', 'Role', 'Longitude', 'Latitude'], dtype='object')"
      ]
     },
     "execution_count": 55,
     "metadata": {},
     "output_type": "execute_result"
    }
   ],
   "source": [
    "tushib_qolganlar"
   ]
  },
  {
   "cell_type": "code",
   "execution_count": 56,
   "metadata": {},
   "outputs": [],
   "source": [
    "df=df.dropna(subset=tushib_qolganlar)"
   ]
  },
  {
   "cell_type": "code",
   "execution_count": 57,
   "metadata": {},
   "outputs": [
    {
     "name": "stdout",
     "output_type": "stream",
     "text": [
      "<class 'pandas.core.frame.DataFrame'>\n",
      "Index: 0 entries\n",
      "Data columns (total 12 columns):\n",
      " #   Column                   Non-Null Count  Dtype  \n",
      "---  ------                   --------------  -----  \n",
      " 0   Job Title                0 non-null      object \n",
      " 1   Unnamed: 1               0 non-null      float64\n",
      " 2   Job Experience Required  0 non-null      object \n",
      " 3   Key Skills               0 non-null      object \n",
      " 4   Role Category            0 non-null      object \n",
      " 5   Location                 0 non-null      object \n",
      " 6   Functional Area          0 non-null      object \n",
      " 7   Industry                 0 non-null      object \n",
      " 8   Role                     0 non-null      object \n",
      " 9   Longitude                0 non-null      float64\n",
      " 10  Latitude                 0 non-null      float64\n",
      " 11  sal                      0 non-null      int64  \n",
      "dtypes: float64(3), int64(1), object(8)\n",
      "memory usage: 0.0+ bytes\n"
     ]
    }
   ],
   "source": [
    "df.info()"
   ]
  },
  {
   "cell_type": "markdown",
   "metadata": {},
   "source": [
    "#Fixed"
   ]
  },
  {
   "cell_type": "code",
   "execution_count": 66,
   "metadata": {},
   "outputs": [
    {
     "name": "stdout",
     "output_type": "stream",
     "text": [
      "<class 'pandas.core.frame.DataFrame'>\n",
      "RangeIndex: 500 entries, 0 to 499\n",
      "Data columns (total 12 columns):\n",
      " #   Column                   Non-Null Count  Dtype  \n",
      "---  ------                   --------------  -----  \n",
      " 0   Job Title                489 non-null    object \n",
      " 1   Unnamed: 1               0 non-null      float64\n",
      " 2   Job Experience Required  500 non-null    object \n",
      " 3   Key Skills               500 non-null    object \n",
      " 4   Role Category            463 non-null    object \n",
      " 5   Location                 489 non-null    object \n",
      " 6   Functional Area          489 non-null    object \n",
      " 7   Industry                 489 non-null    object \n",
      " 8   Role                     486 non-null    object \n",
      " 9   Longitude                473 non-null    float64\n",
      " 10  Latitude                 473 non-null    float64\n",
      " 11  sal                      500 non-null    int64  \n",
      "dtypes: float64(3), int64(1), object(8)\n",
      "memory usage: 47.0+ KB\n"
     ]
    }
   ],
   "source": [
    "df.info()"
   ]
  },
  {
   "cell_type": "code",
   "execution_count": 67,
   "metadata": {},
   "outputs": [
    {
     "data": {
      "text/plain": [
       "Job Title                   11\n",
       "Unnamed: 1                 500\n",
       "Job Experience Required      0\n",
       "Key Skills                   0\n",
       "Role Category               37\n",
       "Location                    11\n",
       "Functional Area             11\n",
       "Industry                    11\n",
       "Role                        14\n",
       "Longitude                   27\n",
       "Latitude                    27\n",
       "sal                          0\n",
       "dtype: int64"
      ]
     },
     "execution_count": 67,
     "metadata": {},
     "output_type": "execute_result"
    }
   ],
   "source": [
    "df.isnull().sum()"
   ]
  },
  {
   "cell_type": "code",
   "execution_count": 68,
   "metadata": {},
   "outputs": [
    {
     "data": {
      "text/plain": [
       "Location\n",
       "Bengaluru                                     71\n",
       "Mumbai                                        58\n",
       "Pune                                          45\n",
       "Gurgaon                                       38\n",
       "Hyderabad                                     37\n",
       "                                              ..\n",
       "Bengaluru,Chennai                              1\n",
       "Chennai Vellore,Salem Erode,Madurai Trichy     1\n",
       "Delhi NCR,Ghaziabad,Noida                      1\n",
       "Chandigarh,Mohali,Panchkula                    1\n",
       "Delhi NCR,Gurgaon,Noida                        1\n",
       "Name: count, Length: 101, dtype: int64"
      ]
     },
     "execution_count": 68,
     "metadata": {},
     "output_type": "execute_result"
    }
   ],
   "source": [
    "df['Location'].value_counts()"
   ]
  },
  {
   "cell_type": "code",
   "execution_count": 71,
   "metadata": {},
   "outputs": [],
   "source": [
    "df['Location'].fillna('Uzbekistan',inplace=True)"
   ]
  },
  {
   "cell_type": "code",
   "execution_count": 78,
   "metadata": {},
   "outputs": [
    {
     "name": "stdout",
     "output_type": "stream",
     "text": [
      "<class 'pandas.core.frame.DataFrame'>\n",
      "RangeIndex: 500 entries, 0 to 499\n",
      "Data columns (total 12 columns):\n",
      " #   Column                   Non-Null Count  Dtype  \n",
      "---  ------                   --------------  -----  \n",
      " 0   Job Title                489 non-null    object \n",
      " 1   Unnamed: 1               0 non-null      float64\n",
      " 2   Job Experience Required  500 non-null    object \n",
      " 3   Key Skills               500 non-null    object \n",
      " 4   Role Category            463 non-null    object \n",
      " 5   Location                 500 non-null    object \n",
      " 6   Functional Area          489 non-null    object \n",
      " 7   Industry                 489 non-null    object \n",
      " 8   Role                     486 non-null    object \n",
      " 9   Longitude                473 non-null    float64\n",
      " 10  Latitude                 473 non-null    float64\n",
      " 11  sal                      500 non-null    int64  \n",
      "dtypes: float64(3), int64(1), object(8)\n",
      "memory usage: 47.0+ KB\n"
     ]
    }
   ],
   "source": [
    "df.info()"
   ]
  },
  {
   "cell_type": "code",
   "execution_count": 90,
   "metadata": {},
   "outputs": [],
   "source": [
    "#MEAN"
   ]
  },
  {
   "cell_type": "code",
   "execution_count": 87,
   "metadata": {},
   "outputs": [
    {
     "name": "stderr",
     "output_type": "stream",
     "text": [
      "C:\\Users\\Abdulmuxtor\\AppData\\Local\\Temp\\ipykernel_14196\\2967817736.py:1: FutureWarning: A value is trying to be set on a copy of a DataFrame or Series through chained assignment using an inplace method.\n",
      "The behavior will change in pandas 3.0. This inplace method will never work because the intermediate object on which we are setting values always behaves as a copy.\n",
      "\n",
      "For example, when doing 'df[col].method(value, inplace=True)', try using 'df.method({col: value}, inplace=True)' or df[col] = df[col].method(value) instead, to perform the operation inplace on the original object.\n",
      "\n",
      "\n",
      "  df['Longitude'].fillna(df['Longitude'].mean(),inplace=True)\n"
     ]
    }
   ],
   "source": [
    "df['Longitude'].fillna(df['Longitude'].mean(),inplace=True)"
   ]
  },
  {
   "cell_type": "code",
   "execution_count": 88,
   "metadata": {},
   "outputs": [
    {
     "name": "stdout",
     "output_type": "stream",
     "text": [
      "<class 'pandas.core.frame.DataFrame'>\n",
      "RangeIndex: 500 entries, 0 to 499\n",
      "Data columns (total 12 columns):\n",
      " #   Column                   Non-Null Count  Dtype  \n",
      "---  ------                   --------------  -----  \n",
      " 0   Job Title                489 non-null    object \n",
      " 1   Unnamed: 1               0 non-null      float64\n",
      " 2   Job Experience Required  500 non-null    object \n",
      " 3   Key Skills               500 non-null    object \n",
      " 4   Role Category            463 non-null    object \n",
      " 5   Location                 500 non-null    object \n",
      " 6   Functional Area          489 non-null    object \n",
      " 7   Industry                 489 non-null    object \n",
      " 8   Role                     486 non-null    object \n",
      " 9   Longitude                500 non-null    float64\n",
      " 10  Latitude                 473 non-null    float64\n",
      " 11  sal                      500 non-null    int64  \n",
      "dtypes: float64(3), int64(1), object(8)\n",
      "memory usage: 47.0+ KB\n"
     ]
    }
   ],
   "source": [
    "df.info()"
   ]
  },
  {
   "cell_type": "markdown",
   "metadata": {},
   "source": [
    "#mode"
   ]
  },
  {
   "cell_type": "code",
   "execution_count": 92,
   "metadata": {},
   "outputs": [],
   "source": [
    "df['Role Category'].fillna(df['Role Category'].mode()[0],inplace=True)"
   ]
  },
  {
   "cell_type": "code",
   "execution_count": 93,
   "metadata": {},
   "outputs": [
    {
     "name": "stdout",
     "output_type": "stream",
     "text": [
      "<class 'pandas.core.frame.DataFrame'>\n",
      "RangeIndex: 500 entries, 0 to 499\n",
      "Data columns (total 12 columns):\n",
      " #   Column                   Non-Null Count  Dtype  \n",
      "---  ------                   --------------  -----  \n",
      " 0   Job Title                489 non-null    object \n",
      " 1   Unnamed: 1               0 non-null      float64\n",
      " 2   Job Experience Required  500 non-null    object \n",
      " 3   Key Skills               500 non-null    object \n",
      " 4   Role Category            500 non-null    object \n",
      " 5   Location                 500 non-null    object \n",
      " 6   Functional Area          489 non-null    object \n",
      " 7   Industry                 489 non-null    object \n",
      " 8   Role                     486 non-null    object \n",
      " 9   Longitude                500 non-null    float64\n",
      " 10  Latitude                 473 non-null    float64\n",
      " 11  sal                      500 non-null    int64  \n",
      "dtypes: float64(3), int64(1), object(8)\n",
      "memory usage: 47.0+ KB\n"
     ]
    }
   ],
   "source": [
    "df.info()"
   ]
  },
  {
   "cell_type": "markdown",
   "metadata": {},
   "source": [
    "#median"
   ]
  },
  {
   "cell_type": "code",
   "execution_count": 94,
   "metadata": {},
   "outputs": [
    {
     "name": "stderr",
     "output_type": "stream",
     "text": [
      "C:\\Users\\Abdulmuxtor\\AppData\\Local\\Temp\\ipykernel_14196\\2321720596.py:1: FutureWarning: A value is trying to be set on a copy of a DataFrame or Series through chained assignment using an inplace method.\n",
      "The behavior will change in pandas 3.0. This inplace method will never work because the intermediate object on which we are setting values always behaves as a copy.\n",
      "\n",
      "For example, when doing 'df[col].method(value, inplace=True)', try using 'df.method({col: value}, inplace=True)' or df[col] = df[col].method(value) instead, to perform the operation inplace on the original object.\n",
      "\n",
      "\n",
      "  df['Latitude'].fillna(df['Latitude'].median(),inplace=True)\n"
     ]
    }
   ],
   "source": [
    "df['Latitude'].fillna(df['Latitude'].median(),inplace=True)"
   ]
  },
  {
   "cell_type": "code",
   "execution_count": 95,
   "metadata": {},
   "outputs": [
    {
     "name": "stdout",
     "output_type": "stream",
     "text": [
      "<class 'pandas.core.frame.DataFrame'>\n",
      "RangeIndex: 500 entries, 0 to 499\n",
      "Data columns (total 12 columns):\n",
      " #   Column                   Non-Null Count  Dtype  \n",
      "---  ------                   --------------  -----  \n",
      " 0   Job Title                489 non-null    object \n",
      " 1   Unnamed: 1               0 non-null      float64\n",
      " 2   Job Experience Required  500 non-null    object \n",
      " 3   Key Skills               500 non-null    object \n",
      " 4   Role Category            500 non-null    object \n",
      " 5   Location                 500 non-null    object \n",
      " 6   Functional Area          489 non-null    object \n",
      " 7   Industry                 489 non-null    object \n",
      " 8   Role                     486 non-null    object \n",
      " 9   Longitude                500 non-null    float64\n",
      " 10  Latitude                 500 non-null    float64\n",
      " 11  sal                      500 non-null    int64  \n",
      "dtypes: float64(3), int64(1), object(8)\n",
      "memory usage: 47.0+ KB\n"
     ]
    }
   ],
   "source": [
    "df.info()"
   ]
  },
  {
   "cell_type": "code",
   "execution_count": null,
   "metadata": {},
   "outputs": [],
   "source": []
  }
 ],
 "metadata": {
  "kernelspec": {
   "display_name": "Python 3",
   "language": "python",
   "name": "python3"
  },
  "language_info": {
   "codemirror_mode": {
    "name": "ipython",
    "version": 3
   },
   "file_extension": ".py",
   "mimetype": "text/x-python",
   "name": "python",
   "nbconvert_exporter": "python",
   "pygments_lexer": "ipython3",
   "version": "3.13.2"
  }
 },
 "nbformat": 4,
 "nbformat_minor": 2
}
